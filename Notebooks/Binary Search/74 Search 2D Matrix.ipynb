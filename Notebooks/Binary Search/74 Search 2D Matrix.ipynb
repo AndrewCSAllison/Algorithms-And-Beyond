{
 "cells": [
  {
   "cell_type": "markdown",
   "id": "151a048c",
   "metadata": {},
   "source": []
  },
  {
   "cell_type": "code",
   "execution_count": 4,
   "id": "13ff8093",
   "metadata": {},
   "outputs": [],
   "source": [
    "def searchMatrix(self, matrix, target):    \n",
    "    m = len(matrix)\n",
    "    n = len(matrix[0])\n",
    "    low = 0\n",
    "    high = m * n - 1\n",
    "    while (low <= high):\n",
    "        mid = (low + high) // 2\n",
    "        row = mid // n\n",
    "        col = mid % n\n",
    "        midVal = matrix[row][col]\n",
    "        if midVal < target:\n",
    "            low += 1\n",
    "        elif midVal > target:\n",
    "            high -= 1\n",
    "        else:\n",
    "            return True\n",
    "    return False"
   ]
  },
  {
   "cell_type": "code",
   "execution_count": null,
   "id": "dc15c5ef",
   "metadata": {},
   "outputs": [
    {
     "ename": "TypeError",
     "evalue": "can only concatenate str (not \"int\") to str",
     "output_type": "error",
     "traceback": [
      "\u001b[31m---------------------------------------------------------------------------\u001b[39m",
      "\u001b[31mTypeError\u001b[39m                                 Traceback (most recent call last)",
      "\u001b[36mCell\u001b[39m\u001b[36m \u001b[39m\u001b[32mIn[7]\u001b[39m\u001b[32m, line 13\u001b[39m\n\u001b[32m     11\u001b[39m     target = \u001b[32m34\u001b[39m\n\u001b[32m     12\u001b[39m     \u001b[38;5;28mprint\u001b[39m(searchMatrix(\u001b[38;5;28;01mNone\u001b[39;00m, matrix, target), matrix, target)\n\u001b[32m---> \u001b[39m\u001b[32m13\u001b[39m \u001b[43mmain\u001b[49m\u001b[43m(\u001b[49m\u001b[43m)\u001b[49m\n",
      "\u001b[36mCell\u001b[39m\u001b[36m \u001b[39m\u001b[32mIn[7]\u001b[39m\u001b[32m, line 8\u001b[39m, in \u001b[36mmain\u001b[39m\u001b[34m()\u001b[39m\n\u001b[32m      2\u001b[39m matrix = [\n\u001b[32m      3\u001b[39m   [\u001b[32m1\u001b[39m,   \u001b[32m3\u001b[39m,  \u001b[32m5\u001b[39m,  \u001b[32m7\u001b[39m],\n\u001b[32m      4\u001b[39m   [\u001b[32m10\u001b[39m, \u001b[32m11\u001b[39m, \u001b[32m16\u001b[39m, \u001b[32m20\u001b[39m],\n\u001b[32m      5\u001b[39m   [\u001b[32m23\u001b[39m, \u001b[32m30\u001b[39m, \u001b[32m34\u001b[39m, \u001b[32m50\u001b[39m]\n\u001b[32m      6\u001b[39m ]\n\u001b[32m      7\u001b[39m target = \u001b[32m3\u001b[39m\n\u001b[32m----> \u001b[39m\u001b[32m8\u001b[39m \u001b[38;5;28mprint\u001b[39m(searchMatrix(\u001b[38;5;28;01mNone\u001b[39;00m, matrix, target), matrix, \u001b[33;43m\"\u001b[39;49m\u001b[33;43mTarget = \u001b[39;49m\u001b[33;43m\"\u001b[39;49m\u001b[43m \u001b[49m\u001b[43m+\u001b[49m\u001b[43m \u001b[49m\u001b[43mtarget\u001b[49m)\n\u001b[32m      9\u001b[39m target = \u001b[32m18\u001b[39m\n\u001b[32m     10\u001b[39m \u001b[38;5;28mprint\u001b[39m(searchMatrix(\u001b[38;5;28;01mNone\u001b[39;00m, matrix, target), matrix, target)\n",
      "\u001b[31mTypeError\u001b[39m: can only concatenate str (not \"int\") to str"
     ]
    }
   ],
   "source": [
    "def main():\n",
    "    matrix = [\n",
    "      [1,   3,  5,  7],\n",
    "      [10, 11, 16, 20],\n",
    "      [23, 30, 34, 50]\n",
    "    ]\n",
    "    target = 3\n",
    "    print(searchMatrix(None, matrix, target), matrix, \"Target = \" + str(target))\n",
    "    target = 18\n",
    "    print(searchMatrix(None, matrix, target), matrix, \"Target = \" + str(target))\n",
    "    target = 34\n",
    "    print(searchMatrix(None, matrix, target), matrix, \"Target = \" + str(target))\n",
    "main()"
   ]
  }
 ],
 "metadata": {
  "kernelspec": {
   "display_name": "Python 3",
   "language": "python",
   "name": "python3"
  },
  "language_info": {
   "codemirror_mode": {
    "name": "ipython",
    "version": 3
   },
   "file_extension": ".py",
   "mimetype": "text/x-python",
   "name": "python",
   "nbconvert_exporter": "python",
   "pygments_lexer": "ipython3",
   "version": "3.11.9"
  }
 },
 "nbformat": 4,
 "nbformat_minor": 5
}
